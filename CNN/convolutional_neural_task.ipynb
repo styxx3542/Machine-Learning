{
 "cells": [
  {
   "cell_type": "code",
   "execution_count": 47,
   "id": "62e51b70",
   "metadata": {},
   "outputs": [
    {
     "name": "stdout",
     "output_type": "stream",
     "text": [
      "hello\n"
     ]
    }
   ],
   "source": [
    "import pandas as pd\n",
    "import pickle\n",
    "import numpy as np\n",
    "from sklearn.model_selection import train_test_split\n",
    "with open(r'C:\\Users\\HP\\convolutional_neural_networks\\batches.meta','rb') as f:\n",
    "    d = pickle.load(f)\n",
    "label_names = d['label_names']\n",
    "\n",
    "with open(r'C:\\Users\\HP\\convolutional_neural_networks\\data_batch_1','rb') as k:\n",
    "    d = pickle.load(k)\n",
    "x = d[b'data']\n",
    "y = d[b'labels']\n",
    "with open(r'C:\\Users\\HP\\convolutional_neural_networks\\data_batch_2','rb') as k:\n",
    "    d = pickle.load(k)\n",
    "\n",
    "y.extend(d[b'labels'])\n",
    "x = np.concatenate((x,d[b'data']))\n",
    "\n",
    "with open(r'C:\\Users\\HP\\convolutional_neural_networks\\data_batch_3','rb') as k:\n",
    "    d = pickle.load(k)\n",
    "y.extend(d[b'labels'])\n",
    "x = np.concatenate((x,d[b'data']))\n",
    "\n",
    "\n",
    "with open(r'C:\\Users\\HP\\convolutional_neural_networks\\data_batch_4','rb') as k:\n",
    "    d = pickle.load(k)\n",
    "y.extend(d[b'labels'])\n",
    "x = np.concatenate((x,d[b'data']))\n",
    "\n",
    "\n",
    "with open(r'C:\\Users\\HP\\convolutional_neural_networks\\data_batch_5','rb') as k:\n",
    "    d = pickle.load(k)\n",
    "y.extend(d[b'labels'])\n",
    "x = np.concatenate((x,d[b'data']))\n",
    "\n",
    "xtrain = x/255.0\n",
    "ytrain = y\n",
    "\n",
    "with open(r'C:\\Users\\HP\\convolutional_neural_networks\\data_batch_6','rb') as k:\n",
    "    d = pickle.load(k)\n",
    "ytest = d[b'labels']\n",
    "xtest  = d[b'data']/255.0\n",
    "print('hello')\n",
    "\n"
   ]
  },
  {
   "cell_type": "code",
   "execution_count": 26,
   "id": "0ecaaa31",
   "metadata": {},
   "outputs": [
    {
     "data": {
      "text/plain": [
       "(10000, 1024)"
      ]
     },
     "execution_count": 26,
     "metadata": {},
     "output_type": "execute_result"
    }
   ],
   "source": [
    "xtest.shape\n"
   ]
  },
  {
   "cell_type": "code",
   "execution_count": 27,
   "id": "74cb27e1",
   "metadata": {},
   "outputs": [
    {
     "ename": "NameError",
     "evalue": "name 'tf' is not defined",
     "output_type": "error",
     "traceback": [
      "\u001b[1;31m---------------------------------------------------------------------------\u001b[0m",
      "\u001b[1;31mNameError\u001b[0m                                 Traceback (most recent call last)",
      "\u001b[1;32m<ipython-input-27-16be72316a11>\u001b[0m in \u001b[0;36m<module>\u001b[1;34m\u001b[0m\n\u001b[1;32m----> 1\u001b[1;33m \u001b[0mcifar10_model\u001b[0m\u001b[1;33m=\u001b[0m\u001b[0mtf\u001b[0m\u001b[1;33m.\u001b[0m\u001b[0mkeras\u001b[0m\u001b[1;33m.\u001b[0m\u001b[0mmodels\u001b[0m\u001b[1;33m.\u001b[0m\u001b[0mSequential\u001b[0m\u001b[1;33m(\u001b[0m\u001b[1;33m)\u001b[0m\u001b[1;33m\u001b[0m\u001b[1;33m\u001b[0m\u001b[0m\n\u001b[0m",
      "\u001b[1;31mNameError\u001b[0m: name 'tf' is not defined"
     ]
    }
   ],
   "source": [
    "model=tf.keras.models.Sequential()\n"
   ]
  },
  {
   "cell_type": "code",
   "execution_count": 74,
   "id": "d2bcf930",
   "metadata": {},
   "outputs": [],
   "source": [
    "import tensorflow as tf\n"
   ]
  },
  {
   "cell_type": "code",
   "execution_count": 75,
   "id": "57389051",
   "metadata": {},
   "outputs": [],
   "source": [
    "model=tf.keras.models.Sequential()"
   ]
  },
  {
   "cell_type": "code",
   "execution_count": 76,
   "id": "c820edfc",
   "metadata": {},
   "outputs": [],
   "source": [
    "model.add(tf.keras.layers.Conv2D(filters=32,kernel_size=3,padding=\"same\", activation=\"relu\", input_shape=[32,32,1]))"
   ]
  },
  {
   "cell_type": "code",
   "execution_count": 77,
   "id": "3d8f9789",
   "metadata": {},
   "outputs": [],
   "source": [
    "model.add(tf.keras.layers.Conv2D(filters=32,kernel_size=3,padding=\"same\", activation=\"relu\"))"
   ]
  },
  {
   "cell_type": "code",
   "execution_count": 78,
   "id": "1b86d00a",
   "metadata": {},
   "outputs": [],
   "source": [
    "model.add(tf.keras.layers.MaxPool2D(pool_size=2,strides=2,padding='valid'))"
   ]
  },
  {
   "cell_type": "code",
   "execution_count": 79,
   "id": "34fd0de8",
   "metadata": {},
   "outputs": [],
   "source": [
    "model.add(tf.keras.layers.Conv2D(filters=64,kernel_size=3,padding=\"same\", activation=\"relu\"))"
   ]
  },
  {
   "cell_type": "code",
   "execution_count": 80,
   "id": "f4eac669",
   "metadata": {},
   "outputs": [],
   "source": [
    "model.add(tf.keras.layers.Conv2D(filters=64,kernel_size=3,padding=\"same\", activation=\"relu\"))"
   ]
  },
  {
   "cell_type": "code",
   "execution_count": 81,
   "id": "cfa8f028",
   "metadata": {},
   "outputs": [],
   "source": [
    "model.add(tf.keras.layers.MaxPool2D(pool_size=2,strides=2,padding='valid'))"
   ]
  },
  {
   "cell_type": "code",
   "execution_count": 82,
   "id": "c55a5ade",
   "metadata": {},
   "outputs": [],
   "source": [
    "model.add(tf.keras.layers.Flatten())"
   ]
  },
  {
   "cell_type": "code",
   "execution_count": 83,
   "id": "42ed1906",
   "metadata": {},
   "outputs": [],
   "source": [
    "model.add(tf.keras.layers.Dropout(0.5,noise_shape=None,seed=None))"
   ]
  },
  {
   "cell_type": "code",
   "execution_count": 84,
   "id": "41a5bd2f",
   "metadata": {},
   "outputs": [],
   "source": [
    "model.add(tf.keras.layers.Dense(units=128,activation='relu'))"
   ]
  },
  {
   "cell_type": "code",
   "execution_count": 85,
   "id": "3f17ce4a",
   "metadata": {},
   "outputs": [],
   "source": [
    "model.add(tf.keras.layers.Dense(units=10,activation='softmax'))"
   ]
  },
  {
   "cell_type": "code",
   "execution_count": 86,
   "id": "7036fe35",
   "metadata": {},
   "outputs": [
    {
     "name": "stdout",
     "output_type": "stream",
     "text": [
      "Model: \"sequential_2\"\n",
      "_________________________________________________________________\n",
      " Layer (type)                Output Shape              Param #   \n",
      "=================================================================\n",
      " conv2d_14 (Conv2D)          (None, 32, 32, 32)        320       \n",
      "                                                                 \n",
      " conv2d_15 (Conv2D)          (None, 32, 32, 32)        9248      \n",
      "                                                                 \n",
      " max_pooling2d_2 (MaxPooling  (None, 16, 16, 32)       0         \n",
      " 2D)                                                             \n",
      "                                                                 \n",
      " conv2d_16 (Conv2D)          (None, 16, 16, 64)        18496     \n",
      "                                                                 \n",
      " conv2d_17 (Conv2D)          (None, 16, 16, 64)        36928     \n",
      "                                                                 \n",
      " max_pooling2d_3 (MaxPooling  (None, 8, 8, 64)         0         \n",
      " 2D)                                                             \n",
      "                                                                 \n",
      " flatten_1 (Flatten)         (None, 4096)              0         \n",
      "                                                                 \n",
      " dropout_1 (Dropout)         (None, 4096)              0         \n",
      "                                                                 \n",
      " dense_2 (Dense)             (None, 128)               524416    \n",
      "                                                                 \n",
      " dense_3 (Dense)             (None, 10)                1290      \n",
      "                                                                 \n",
      "=================================================================\n",
      "Total params: 590,698\n",
      "Trainable params: 590,698\n",
      "Non-trainable params: 0\n",
      "_________________________________________________________________\n"
     ]
    }
   ],
   "source": [
    "model.summary()"
   ]
  },
  {
   "cell_type": "code",
   "execution_count": 87,
   "id": "1a792bf3",
   "metadata": {},
   "outputs": [],
   "source": [
    "model.compile(loss=\"sparse_categorical_crossentropy\", optimizer=\"Adam\", metrics=[\"sparse_categorical_accuracy\"])"
   ]
  },
  {
   "cell_type": "code",
   "execution_count": 88,
   "id": "15c88fbf",
   "metadata": {},
   "outputs": [],
   "source": [
    "ytrain = np.array(ytrain)"
   ]
  },
  {
   "cell_type": "code",
   "execution_count": 89,
   "id": "3321ba9f",
   "metadata": {},
   "outputs": [],
   "source": [
    "xtrain = xtrain.reshape((50000,32,32))"
   ]
  },
  {
   "cell_type": "code",
   "execution_count": 90,
   "id": "609c8bc6",
   "metadata": {},
   "outputs": [
    {
     "data": {
      "text/plain": [
       "(32, 32)"
      ]
     },
     "execution_count": 90,
     "metadata": {},
     "output_type": "execute_result"
    }
   ],
   "source": [
    "xtrain[0].shape"
   ]
  },
  {
   "cell_type": "code",
   "execution_count": 91,
   "id": "d239a5e1",
   "metadata": {},
   "outputs": [
    {
     "name": "stdout",
     "output_type": "stream",
     "text": [
      "Epoch 1/15\n",
      "1563/1563 [==============================] - 153s 97ms/step - loss: 1.5875 - sparse_categorical_accuracy: 0.4289\n",
      "Epoch 2/15\n",
      "1563/1563 [==============================] - 150s 96ms/step - loss: 1.1335 - sparse_categorical_accuracy: 0.6033\n",
      "Epoch 3/15\n",
      "1563/1563 [==============================] - 150s 96ms/step - loss: 0.9655 - sparse_categorical_accuracy: 0.6636\n",
      "Epoch 4/15\n",
      "1563/1563 [==============================] - 148s 95ms/step - loss: 0.8599 - sparse_categorical_accuracy: 0.6986\n",
      "Epoch 5/15\n",
      "1563/1563 [==============================] - 142s 91ms/step - loss: 0.7811 - sparse_categorical_accuracy: 0.7268\n",
      "Epoch 6/15\n",
      "1563/1563 [==============================] - 136s 87ms/step - loss: 0.7245 - sparse_categorical_accuracy: 0.7465\n",
      "Epoch 7/15\n",
      "1563/1563 [==============================] - 140s 90ms/step - loss: 0.6758 - sparse_categorical_accuracy: 0.7626\n",
      "Epoch 8/15\n",
      "1563/1563 [==============================] - 139s 89ms/step - loss: 0.6309 - sparse_categorical_accuracy: 0.7787\n",
      "Epoch 9/15\n",
      "1563/1563 [==============================] - 3537s 2s/step - loss: 0.5960 - sparse_categorical_accuracy: 0.7899\n",
      "Epoch 10/15\n",
      "1563/1563 [==============================] - 176s 112ms/step - loss: 0.5681 - sparse_categorical_accuracy: 0.7989\n",
      "Epoch 11/15\n",
      "1563/1563 [==============================] - 186s 119ms/step - loss: 0.5412 - sparse_categorical_accuracy: 0.8109\n",
      "Epoch 12/15\n",
      "1563/1563 [==============================] - 190s 122ms/step - loss: 0.5089 - sparse_categorical_accuracy: 0.8191\n",
      "Epoch 13/15\n",
      "1563/1563 [==============================] - 171s 109ms/step - loss: 0.4949 - sparse_categorical_accuracy: 0.8246\n",
      "Epoch 14/15\n",
      "1563/1563 [==============================] - 172s 110ms/step - loss: 0.4683 - sparse_categorical_accuracy: 0.8350\n",
      "Epoch 15/15\n",
      "1563/1563 [==============================] - 174s 111ms/step - loss: 0.4561 - sparse_categorical_accuracy: 0.8387\n"
     ]
    },
    {
     "data": {
      "text/plain": [
       "<keras.callbacks.History at 0x248a4463c40>"
      ]
     },
     "execution_count": 91,
     "metadata": {},
     "output_type": "execute_result"
    }
   ],
   "source": [
    "model.fit(xtrain,ytrain,epochs=15)"
   ]
  },
  {
   "cell_type": "code",
   "execution_count": 94,
   "id": "2447f423",
   "metadata": {},
   "outputs": [],
   "source": [
    "ytest = np.array(ytest)"
   ]
  },
  {
   "cell_type": "code",
   "execution_count": 96,
   "id": "76eca923",
   "metadata": {},
   "outputs": [],
   "source": [
    "xtest = xtest.reshape((10000,32,32))"
   ]
  },
  {
   "cell_type": "code",
   "execution_count": 97,
   "id": "0b3c5c69",
   "metadata": {},
   "outputs": [
    {
     "name": "stdout",
     "output_type": "stream",
     "text": [
      "313/313 [==============================] - 6s 20ms/step - loss: 0.7384 - sparse_categorical_accuracy: 0.7607\n"
     ]
    }
   ],
   "source": [
    "test_loss, test_accuracy = cifar10_model.evaluate(xtest, ytest)"
   ]
  },
  {
   "cell_type": "code",
   "execution_count": 98,
   "id": "54734142",
   "metadata": {},
   "outputs": [
    {
     "name": "stdout",
     "output_type": "stream",
     "text": [
      "Test accuracy: 0.760699987411499\n"
     ]
    }
   ],
   "source": [
    "print(\"Test accuracy: {}\".format(test_accuracy))"
   ]
  },
  {
   "cell_type": "code",
   "execution_count": null,
   "id": "4d61764d",
   "metadata": {},
   "outputs": [],
   "source": []
  }
 ],
 "metadata": {
  "kernelspec": {
   "display_name": "Python 3",
   "language": "python",
   "name": "python3"
  },
  "language_info": {
   "codemirror_mode": {
    "name": "ipython",
    "version": 3
   },
   "file_extension": ".py",
   "mimetype": "text/x-python",
   "name": "python",
   "nbconvert_exporter": "python",
   "pygments_lexer": "ipython3",
   "version": "3.8.8"
  }
 },
 "nbformat": 4,
 "nbformat_minor": 5
}
