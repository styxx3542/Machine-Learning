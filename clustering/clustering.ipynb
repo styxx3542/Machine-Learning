{
 "cells": [
  {
   "cell_type": "code",
   "execution_count": 330,
   "id": "10cd8863",
   "metadata": {},
   "outputs": [
    {
     "data": {
      "text/plain": [
       "KMeans(n_clusters=2)"
      ]
     },
     "execution_count": 330,
     "metadata": {},
     "output_type": "execute_result"
    }
   ],
   "source": [
    "import pandas as pd\n",
    "import numpy as np\n",
    "import matplotlib.pyplot as plt\n",
    "from sklearn.cluster import KMeans\n",
    "from sklearn.model_selection import train_test_split\n",
    "df = pd.read_csv(r'C:\\Users\\HP\\ml_training\\weatherAUS.csv')\n",
    "df.drop(['Date','Location','WindGustDir','WindDir9am','WindDir3pm'],axis = 1,inplace = True)\n",
    "df.RainToday = [1 if i == 'Yes' else 0 for i in df.RainToday]\n",
    "df.RainTomorrow = [1 if i == 'Yes' else 0 for i in df.RainTomorrow]\n",
    "df.fillna(0, inplace=True)\n",
    "df1 = df.drop(['RainTomorrow'],axis = 1)\n",
    "y = df['RainTomorrow'].values\n",
    "x = (df1 - np.min(df1)) / (np.max(df1) - np.min(df1))\n",
    "xtrain, xtest, ytrain, ytest = train_test_split(x, y, test_size=0.33, random_state=90210)\n",
    "kmeans = KMeans(n_clusters= 2,init = 'k-means++')\n",
    "kmeans.fit(xtrain)\n",
    "\n",
    "\n"
   ]
  },
  {
   "cell_type": "code",
   "execution_count": 331,
   "id": "5e67cea4",
   "metadata": {
    "scrolled": false
   },
   "outputs": [
    {
     "name": "stdout",
     "output_type": "stream",
     "text": [
      "[[4.79789629e-01 5.41024386e-01 1.96244490e-04 2.30550092e-02\n",
      "  2.94457974e-01 2.69155005e-01 1.03049167e-01 2.05965583e-01\n",
      "  6.40743095e-01 4.59169397e-01 8.75947799e-01 8.75298548e-01\n",
      "  2.64888433e-01 2.64148598e-01 5.11983116e-01 5.24875195e-01\n",
      "  2.84217094e-14]\n",
      " [5.02838210e-01 4.71739769e-01 2.77488019e-02 1.55346073e-02\n",
      "  1.92553074e-01 2.99680962e-01 1.19878156e-01 2.24322942e-01\n",
      "  8.01333333e-01 6.41712555e-01 8.78338242e-01 8.78042956e-01\n",
      "  4.41473199e-01 4.10275125e-01 4.83385081e-01 4.53824621e-01\n",
      "  1.00000000e+00]]\n"
     ]
    }
   ],
   "source": [
    "print(kmeans.cluster_centers_)"
   ]
  },
  {
   "cell_type": "code",
   "execution_count": 332,
   "id": "464e8e29",
   "metadata": {},
   "outputs": [],
   "source": [
    "kmeans_pred = kmeans.predict(xtest)"
   ]
  },
  {
   "cell_type": "code",
   "execution_count": 333,
   "id": "f192f2e6",
   "metadata": {},
   "outputs": [],
   "source": [
    "kmeans_pred_2 = []\n",
    "for x in kmeans_pred:\n",
    "    if x == 1:\n",
    "        kmeans_pred_2.append(0)\n",
    "    elif x == 0:\n",
    "        kmeans_pred_2.append(1)\n",
    "        \n",
    "kmeans_pred_2 = np.array(kmeans_pred_2)"
   ]
  },
  {
   "cell_type": "code",
   "execution_count": 334,
   "id": "33aa20a7",
   "metadata": {},
   "outputs": [],
   "source": [
    "if accuracy_score(kmeans_pred,ytest, normalize=False) < accuracy_score(kmeans_pred_2, ytest, normalize=False):\n",
    "    kmeans_pred = kmeans_pred_2"
   ]
  },
  {
   "cell_type": "code",
   "execution_count": 335,
   "id": "9c2559f1",
   "metadata": {},
   "outputs": [],
   "source": [
    "\n",
    "result_df = pd.DataFrame()\n",
    "result_df['ytest'] = np.array(ytest)\n",
    "result_df['kmeans_pred'] = kmeans_pred\n",
    "result_df['kmeans_correct'] = result_df['kmeans_pred'] == result_df['ytest']"
   ]
  },
  {
   "cell_type": "code",
   "execution_count": 336,
   "id": "c59becc4",
   "metadata": {},
   "outputs": [],
   "source": [
    "a = result_df['kmeans_correct'].values"
   ]
  },
  {
   "cell_type": "code",
   "execution_count": 337,
   "id": "8baeca71",
   "metadata": {},
   "outputs": [],
   "source": [
    "count = 0\n",
    "for i in a:\n",
    "    if i == True:\n",
    "        count+=1"
   ]
  },
  {
   "cell_type": "code",
   "execution_count": 338,
   "id": "d28e324b",
   "metadata": {},
   "outputs": [
    {
     "name": "stdout",
     "output_type": "stream",
     "text": [
      "0.7627182200741636\n"
     ]
    }
   ],
   "source": [
    "print(count/len(a))"
   ]
  },
  {
   "cell_type": "code",
   "execution_count": null,
   "id": "0b3fd0e6",
   "metadata": {},
   "outputs": [],
   "source": []
  },
  {
   "cell_type": "code",
   "execution_count": 21,
   "id": "beea3564",
   "metadata": {},
   "outputs": [
    {
     "data": {
      "image/png": "[encoded data removed]",
      "text/plain": [
       "<Figure size 432x288 with 1 Axes>"
      ]
     },
     "metadata": {
      "needs_background": "light"
     },
     "output_type": "display_data"
    }
   ],
   "source": [
    "x1 = x[:5000]\n",
    "y1 = y[:5000]\n",
    "l = []\n",
    "for i in range(1,10):\n",
    "    kmeans = KMeans(n_clusters = i)\n",
    "    kmeans.fit(x1)\n",
    "    l.append(kmeans.inertia_)\n",
    "    plt.plot(i, abs(l[i-1]), 'rx-')\n",
    "    plt.xlabel('Values of K')\n",
    "    plt.ylabel('squared error')\n",
    "    plt.title('The Elbow Method')\n"
   ]
  },
  {
   "cell_type": "code",
   "execution_count": null,
   "id": "0ecf1313",
   "metadata": {},
   "outputs": [],
   "source": []
  }
 ],
 "metadata": {
  "kernelspec": {
   "display_name": "Python 3",
   "language": "python",
   "name": "python3"
  },
  "language_info": {
   "codemirror_mode": {
    "name": "ipython",
    "version": 3
   },
   "file_extension": ".py",
   "mimetype": "text/x-python",
   "name": "python",
   "nbconvert_exporter": "python",
   "pygments_lexer": "ipython3",
   "version": "3.8.8"
  }
 },
 "nbformat": 4,
 "nbformat_minor": 5
}
