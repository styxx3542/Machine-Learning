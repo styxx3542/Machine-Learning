{
 "cells": [
  {
   "cell_type": "code",
   "execution_count": 1,
   "id": "e71fc54a",
   "metadata": {},
   "outputs": [],
   "source": [
    "import pandas as pd\n",
    "import numpy as np\n",
    "import matplotlib.pyplot as plt\n",
    "\n",
    "df = pd.read_csv(r'C:\\Users\\HP\\ml_training\\weatherAUS.csv')\n"
   ]
  },
  {
   "cell_type": "code",
   "execution_count": 2,
   "id": "6e5da7bc",
   "metadata": {},
   "outputs": [],
   "source": [
    "df.RainToday = [1 if i == 'Yes' else 0 for i in df.RainToday]\n",
    "df.RainTomorrow = [1 if i == 'Yes' else 0 for i in df.RainTomorrow]"
   ]
  },
  {
   "cell_type": "code",
   "execution_count": 3,
   "id": "bea4e215",
   "metadata": {},
   "outputs": [],
   "source": [
    "df.drop(['Date','Location','WindGustDir','WindDir9am','WindDir3pm'],axis = 1,inplace = True)"
   ]
  },
  {
   "cell_type": "code",
   "execution_count": 4,
   "id": "6c6e4d09",
   "metadata": {},
   "outputs": [],
   "source": [
    "df.fillna(0, inplace=True)"
   ]
  },
  {
   "cell_type": "code",
   "execution_count": 5,
   "id": "9d907212",
   "metadata": {},
   "outputs": [],
   "source": [
    "df1 = df.drop(['RainTomorrow'],axis = 1)\n",
    "y = df['RainTomorrow'].values"
   ]
  },
  {
   "cell_type": "code",
   "execution_count": 53,
   "id": "d6513444",
   "metadata": {},
   "outputs": [],
   "source": [
    "x = (df1 - np.min(df1)) / (np.max(df1) - np.min(df1))"
   ]
  },
  {
   "cell_type": "code",
   "execution_count": 8,
   "id": "5e1cebb6",
   "metadata": {},
   "outputs": [],
   "source": [
    "xtest= x[100000:].T\n",
    "xtrain  = x[:100001].T\n",
    "ytest = y[100000:].T\n",
    "ytrain = y[:100001].T"
   ]
  },
  {
   "cell_type": "code",
   "execution_count": 52,
   "id": "f3af0114",
   "metadata": {},
   "outputs": [],
   "source": [
    "w = np.zeros((xtrain.shape[0],1))\n",
    "b = 0"
   ]
  },
  {
   "cell_type": "code",
   "execution_count": 17,
   "id": "9bc99d5d",
   "metadata": {},
   "outputs": [],
   "source": [
    "def prob_func(z):\n",
    "    arr1 = 1/(1+(np.exp(-z)))\n",
    "    return arr1"
   ]
  },
  {
   "cell_type": "code",
   "execution_count": 54,
   "id": "c1df4872",
   "metadata": {},
   "outputs": [],
   "source": [
    "z = np.dot(w.T, xtrain) + b\n",
    "h_x = prob_func(z)\n",
    "loss = ytrain-h_x\n",
    "weight_gradient = (xtrain.dot(loss.T)) / len(ytrain)\n"
   ]
  },
  {
   "cell_type": "code",
   "execution_count": 61,
   "id": "366954e1",
   "metadata": {},
   "outputs": [],
   "source": [
    "def update(w,b,xtrain,ytrain,learning_rate = 1,epochs = 400):\n",
    "    for epoch in range(epochs):\n",
    "        z = np.dot(w.T, xtrain) + b\n",
    "        h_x = prob_func(z)\n",
    "        loss = ytrain-h_x\n",
    "        weight_gradient = (xtrain.dot(loss.T)) / len(ytrain)\n",
    "        bias_gradient = np.sum(loss) / len(ytrain)\n",
    "        \n",
    "        w = w + learning_rate*weight_gradient\n",
    "        b = b + learning_rate*bias_gradient\n",
    "    return w, b"
   ]
  },
  {
   "cell_type": "code",
   "execution_count": 62,
   "id": "f1218a23",
   "metadata": {},
   "outputs": [],
   "source": [
    "w,b = update(w,b,xtrain,ytrain)"
   ]
  },
  {
   "cell_type": "code",
   "execution_count": 72,
   "id": "1196d46c",
   "metadata": {},
   "outputs": [],
   "source": [
    "def prediction(w, b, xtest):\n",
    "    h_x = prob_func(np.dot(w.T, xtest) + b)\n",
    "    ypred = np.zeros((1,xtest.shape[1]))\n",
    "    \n",
    "    for i in range(h_x.shape[1]):\n",
    "        if h_x[0,i]<= 0.5:\n",
    "            ypred[0,i] = 0\n",
    "        else:\n",
    "            ypred[0,i] = 1\n",
    "            \n",
    "    return ypred"
   ]
  },
  {
   "cell_type": "code",
   "execution_count": 75,
   "id": "d6a6e8d3",
   "metadata": {},
   "outputs": [
    {
     "name": "stdout",
     "output_type": "stream",
     "text": [
      "Test accuracy: 83.20501539815223\n"
     ]
    }
   ],
   "source": [
    "ypred = prediction(w, b, xtest)\n",
    "print(f'Test accuracy: {100 - np.mean(np.abs(ypred - ytest))*100}')"
   ]
  },
  {
   "cell_type": "code",
   "execution_count": null,
   "id": "46a91d56",
   "metadata": {},
   "outputs": [],
   "source": []
  },
  {
   "cell_type": "code",
   "execution_count": null,
   "id": "1900819a",
   "metadata": {},
   "outputs": [],
   "source": []
  }
 ],
 "metadata": {
  "kernelspec": {
   "display_name": "Python 3",
   "language": "python",
   "name": "python3"
  },
  "language_info": {
   "codemirror_mode": {
    "name": "ipython",
    "version": 3
   },
   "file_extension": ".py",
   "mimetype": "text/x-python",
   "name": "python",
   "nbconvert_exporter": "python",
   "pygments_lexer": "ipython3",
   "version": "3.8.8"
  }
 },
 "nbformat": 4,
 "nbformat_minor": 5
}
